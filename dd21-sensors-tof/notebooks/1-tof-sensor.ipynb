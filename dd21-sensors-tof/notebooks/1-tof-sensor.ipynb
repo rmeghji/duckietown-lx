{
 "cells": [
  {
   "attachments": {},
   "cell_type": "markdown",
   "metadata": {},
   "source": [
    "# Time-of-flight Sensor\n",
    "\n",
    "A range sensor is any sensor that measures the distance to an\n",
    "object. There are three main types that are used on quadcopters:\n",
    "ultrasonic, infrared, and time-of-flight. For ultrasonic and infrared,\n",
    "a wave is emitted from one element of the sensor and received by the\n",
    "other. The time taken for the wave to be emitted, reflected, and be\n",
    "absorbed by the second sensor allows the range to be\n",
    "calculated. Infrared is more accurate, less noisy, and has a better\n",
    "range than the ultrasonic range sensor.\n",
    "\n",
    "<figure>\n",
    "    <center>\n",
    "    <img src=\"../assets/_images/Time_of_flight.svg\" alt=\"Time of flight sensor\">\n",
    "    <figcaption>Time of flight sensor working principle <a href=\"https://en.wikipedia.org/wiki/Time-of-flight_camera#/media/File:20200501_Time_of_flight.svg\">[source]</a></figcaption>\n",
    "</figure>\n",
    "\n",
    "The time-of-flight sensor\n",
    "shines infrared light at the world and measures how long it takes to\n",
    "bounce back.  Your drone uses the time-of-flight (ToF) sensor because\n",
    "it accurately measures range and does not require an extra analog to\n",
    "digital converter board as does the infrared sensor.\n"
   ]
  },
  {
   "attachments": {},
   "cell_type": "markdown",
   "metadata": {},
   "source": [
    "## Estimating Height with the Time of Flight Sensor\n",
    "\n",
    "The time-of-flight (ToF) sensor on the drone outputs a distance\n",
    "estimate. ROS requires all distances to be in meters.  \n",
    "\n",
    "### Questions\n",
    "1. You will be using [the recommended Python library](https://docs.circuitpython.org/projects/vl53l0x/en/latest/) to read data from the ToF sensor. In what units does it output the measured range?\n",
    "\n"
   ]
  },
  {
   "attachments": {},
   "cell_type": "markdown",
   "metadata": {},
   "source": [
    "# Activity: Using your Time-of-flight Sensor\n",
    "\n",
    "In this part of the project, you will learn how to estimate the drone's height using its time-of-flight sensor. The drone is equipped with a [VL53L0X distance sensor](https://learn.adafruit.com/adafruit-vl53l0x-micro-lidar-distance-sensor-breakout), which is used for estimating the distance from the drone to the ground. The sensor outputs a digital signal which is read in by the Raspberry Pi via I2C communication using the associated [Python library](https://docs.circuitpython.org/projects/vl53l0x/en/latest/).\n",
    "\n",
    "**Activity**\n",
    "\n",
    "Change directories into `~/catkin_ws/src/project-sensors-implementation-yourGithubName`.\n",
    "\n",
    "You can run:\n",
    "\n",
    "  ```bash\n",
    "  chmod +x student_tof_pub.py\n",
    "  ./student_tof_pub.py  \n",
    "  ```\n",
    "\n",
    "You may stop `student_tof_pub.py` with `ctrl-c`, edit it within that tab, and then re-run \n",
    "\n",
    "  ```bash\n",
    "  ./student_tof_pub.py\n",
    "  ```\n",
    "\n",
    "to test your changes.\n",
    "\n",
    "\n",
    "## Problem 1: Publish your ToF Reading\n",
    "In `student_tof_pub.py`, fill in the minimum range, maximum range, and current range read from the sensor into the ROS message.  When you run this node, you will be publishing a [ROS Range message](http://docs.ros.org/api/sensor_msgs/html/msg/Range.html) which is a standard message included with ROS.\n",
    "\n",
    "## Checkoff:\n",
    "Using `rostopic echo /pidrone/range` or the height graph on the web interface, verify that:\n",
    "\n",
    "  * The ToF node is publishing a message with all the fields you want\n",
    "  * The range field of the message is a roughly accurate measure of the drone's altitude\n",
    "\n",
    "You can now fly your drone with your own range node!\n"
   ]
  }
 ],
 "metadata": {
  "kernelspec": {
   "display_name": "Python 3.8.10 64-bit",
   "language": "python",
   "name": "python3"
  },
  "language_info": {
   "name": "python",
   "version": "3.8.10"
  },
  "orig_nbformat": 4,
  "vscode": {
   "interpreter": {
    "hash": "916dbcbb3f70747c44a77c7bcd40155683ae19c65e1c03b4aa3499c5328201f1"
   }
  }
 },
 "nbformat": 4,
 "nbformat_minor": 2
}
