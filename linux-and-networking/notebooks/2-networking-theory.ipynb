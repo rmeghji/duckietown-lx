{
 "cells": [
  {
   "attachments": {},
   "cell_type": "markdown",
   "metadata": {},
   "source": [
    "# Networking basics\n",
    "\n",
    "Networking is extremely vital in Duckietown and robotics in general. And we don't mean the networking events where duckies socialize (these are pretty fun), but rather the computer networks between the bots, your computers and the rest of the Duckietown\n",
    "equipment. These networks allow us to do some pretty cool stuff, like controlling your Duckiebot from your laptop\n",
    "or creating a centralized observation center that combines the video streams of all watchtowers. Networking's usefulness is only comparable with its complexity. Indeed, this is often the source of most confusion and problems for Duckietown newbies. That is why we will try to clarify as many things as we can from the very beginning.\n",
    "\n",
    "<figure>\n",
    "     <img src=\"../assets/_images/Sample-network-diagram.png\"  alt=\"Computer network\" style=\"width:80%\">\n",
    "     <figcaption>A computer network (By <a href=\"https://en.wikipedia.org/wiki/User:SilverStar\" class=\"extiw\" title=\"w:User:SilverStar\">SilverStar</a> at <a href=\"https://en.wikipedia.org/wiki/\" class=\"extiw\" title=\"w:\">English Wikipedia</a>, <a href=\"https://creativecommons.org/licenses/by/2.5\" title=\"Creative Commons Attribution 2.5\">CC BY 2.5</a>, <a href=\"https://commons.wikimedia.org/w/index.php?curid=114351154\">Link</a>)</figcaption>\n",
    "</figure>\n",
    "\n",
    "## Why do we care about networking in the first place?\n",
    "\n",
    "Your Duckiebot, just like your computer or your phone, is a network device and you connect to it through the network. You probably want to control it without having to attach a screen, a keyboard and a mouse to it, that would defeat the whole \"autonomy\" goal. In more complex projects, one computer can also be used to control dozens of devices at a time. And in one of the most challenging undertakings that we have attempted so far, we connect 50+ watchtowers into a single mega-hive. All this is enabled by smartly configured computer networks!\n",
    "\n",
    "## How do computer networks work?\n",
    "\n",
    "A local network is setup with a _router_ at the center, that allows all devices that connect to it to find each other and communicate. The role of the router is to direct (route) packages from a sender to a receiver. In big networks you cannot physically connect all devices to a single router. In this case, you can use _switches_ to combine the network traffic from a number of devices onto a single connection to a router. The router must know which device is which and where to find it. To facilitate their communication, the router and the rest of the devices use _IP_ and _MAC_ addresses.\n",
    "\n",
    "### MAC Addresses\n",
    "\n",
    "The [MAC address](https://en.wikipedia.org/wiki/MAC_address) is related to your hardware itself, to your computer (or more accurately, to the network interface). This means that it remains the same even if you move to the other end of the world and connect to a different network. If your computer supports both a WiFi and an Ethernet connection, then each one has a different MAC address. The MAC address is of the form: `0d:12:2c:a7:0d:27`, with each symbol being a hexadecimal (`0-9 + a-f`). More importantly, MAC addresses are unique: there is no other device in the world with the same MAC address as the WiFi adapter in your laptop. You can consider it as a citizen number: it is unique personal identifier. That makes MAC addresses extremely useful for routing messages reliably.\n",
    "\n",
    "While MAC addresses have the benefit of stability, they are very clumsy to work with, imagine that every time you want to send a letter to your friend you need to write down their citizen number. And also imagine you are the mailman: it is very different to deliver mail if you don’t know where the person lives. Computers use IP addresses to handle these problems.\n",
    "\n",
    "### IP Addresses\n",
    "\n",
    "The [IP address](https://en.wikipedia.org/wiki/IP_address) of a device is relative to the network it lives in. It is\n",
    " a sequence of numbers that are uniquely mapped to devices inside the network. It is coded on 32 bits. Most home\n",
    "  networks use the range of IP from `192.168.1.1` to `192.168.1.255`, so you may have seen the numbers before.  The\n",
    "   structure of the IP address shows the hierarchical nature of the network architecture. This address will change as\n",
    "    soon as you change network, and it is assigned by the network administrator. Typically this is handled by a [DHCP\n",
    "    ](https://en.wikipedia.org/wiki/Dynamic_Host_Configuration_Protocol) server which, in most home networks is part\n",
    "     of the router. In a local network, all addresses use the same subnetwork, which means that the first 24 bits of it are the same. If my IP is `192.168.1.23`, then my subnetwork is `192.168.1.![xyz]`. This makes it easy to determine which devices are on the same local network as me, as then the router can directly deliver my messages. If you are trying to connect to a device outside your local network (e.g., on the Internet), the router will need to find a way to deliver the message to it.\n",
    "\n",
    "This concept is actually quite important. Your router will give you the address of any device on your _local_ network, such that you can connect to it, but does not work for resources on the Internet, for example, `docs.duckietown.org`. Therefore, instead, it acts as an intermediary between your device and the Internet. The technical term for that is _gateway_. The router will mask any request that comes from you as if it comes from the router itself, and once it gets a reply from the remote server, it forwards that back to your device.\n",
    "\n",
    "### multicast DNS\n",
    "\n",
    "Even though using IP addresses is very convenient for computers, humans do not handle them that well. They change from time to time and are hard to memorize. Instead, we prefer to name our devices with memorable names such as `quackabot` or `duckiecar`. These names are called _hostnames_ and you should have picked one for your Duckiebot when you initialized it. In Duckietown, we mostly use the hostnames for connecting to devices. However, the ability to find a device by hostname is non-standard and requires a protocol called _multicast DNS_ ([mDNS](https://en.wikipedia.org/wiki/Multicast_DNS)). \n",
    "\n",
    "**Note**: This mDNS protocol works by default on most home or office networks, but is blocked on large corporate networks like the ones of universities. If you have issues connecting to your Duckiebot thourgh the hostname, that is the most likely reason and you should first check with your network provider if mDNS is indeed blocked."
   ]
  }
 ],
 "metadata": {
  "kernelspec": {
   "display_name": "Python 3.8.10 64-bit",
   "language": "python",
   "name": "python3"
  },
  "language_info": {
   "name": "python",
   "version": "3.8.10"
  },
  "orig_nbformat": 4,
  "vscode": {
   "interpreter": {
    "hash": "916dbcbb3f70747c44a77c7bcd40155683ae19c65e1c03b4aa3499c5328201f1"
   }
  }
 },
 "nbformat": 4,
 "nbformat_minor": 2
}
