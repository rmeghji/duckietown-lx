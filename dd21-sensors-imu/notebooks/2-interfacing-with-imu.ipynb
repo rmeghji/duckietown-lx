{
 "cells": [
  {
   "attachments": {},
   "cell_type": "markdown",
   "metadata": {},
   "source": [
    "\n",
    "## Inertial Measurement Unit (IMU)\n",
    "\n",
    "An IMU is a device that uses accelerometers and gyroscopes to measure\n",
    "forces (via accelerations) and angular rates acting on a body. The IMU\n",
    "on the Duckiedrone is a built-in component of the flight controller. Data\n",
    "provided by the IMU are used by the state estimator, which you will be\n",
    "implementing in the next project, to better understand its motion in\n",
    "flight. In addition, the flight controller uses the IMU data to\n",
    "stabilize the drone from small perturbations.\n",
    "\n",
    "The IMU can be used to measure global orientation of roll and pitch, but **not** yaw.  This is because it measures acceleration due to gravity, so it can measure the downward pointing gravity\n",
    "vector.  However, this information does not give a global yaw measurement.  Many\n",
    "drones additionally include a magnetometer to measure global yaw\n",
    "according to the Earth's magnetic field, but the Duckiedrone does not\n",
    "have this sensor.\n",
    "\n",
    "\n",
    "<figure>\n",
    "  <div style=\"text-align:center;\">\n",
    "  <img style='width:250px' src='../assets/_images/imu.png' />\n",
    "  <figcaption>Imu rotational and translational axes <a href=\"https://api.semanticscholar.org/CorpusID:6415932\">[source]</a></figcaption>\n",
    "</figure>\n",
    "\n",
    "\n",
    "Note that IMUs *do NOT* measure position or linear velocity.  The\n",
    "acceleration measurements can be integrated (added up over time) to\n",
    "measure linear velocity, and these velocity estimates can be\n",
    "integrated again to measure position.  However, without some absolute\n",
    "measurement of position or velocity, these estimates will quickly\n",
    "diverge.  To measures these properties of the drone, we need to use\n",
    "the camera as described below.\n",
    "\n"
   ]
  },
  {
   "attachments": {},
   "cell_type": "markdown",
   "metadata": {},
   "source": [
    "# Interfacing with the IMU\n",
    "\n",
    "Your drone is equipped with a [SPRacing F3 Flight Controller](https://www.docdroid.net/ZiHpNPS/f3-flight-controller-acro-6-dof-deluxe-10-dof-for-multirotor-racing-manual-latest-pdf) which has a built in IMU. In this part of the project, you will learn how to interface with the flight controller board to extract the attitude, accelerations, angular rates of the drone from the built-in IMU. In addition, you will extract the battery levels from the flight controller so that you'll be able to tell when you're battery is too low.\n",
    "\n",
    "**Setup**\n",
    "1.  Connect to your Duckiedrone through ssh\n",
    "\n",
    "1.  Change directories into `~/ws/src/pidrone_pkg` \n",
    "\n",
    "1.  Modify `pi.screenrc` to start up with your flight controller node by changing the line\n",
    "\n",
    "    `python flight_controller_node.py\\n`\n",
    "    \n",
    "    to:\n",
    "    \n",
    "    `python ~/catkin_ws/src/project-sensors-implementation-<your-GitHub-username>/student_flight_controller_node.py`.\n",
    "\n",
    "    Remember to change `<your-GitHub-username>`.\n",
    "\n",
    "**note**: for safety reasons this node *will not* start automatically, you will need to go in the tab (`1) of screen manually and press <kbd>Enter</kbd>.\n",
    "\n",
    "## Activity 1: Extracting the Battery Data\n",
    "The flight controller is capable of reading the voltage and current of the power source plugged into the drone. This is possible because of the red and brown wire pair (i.e. _battery monitor_ wire pair) plugged into the FC. The power information is useful because it allows us to programmatically shut down the drone if the voltage is too low (e.g. LiPo batteries are quickly ruined if discharged too low).\n",
    "\n",
    "**TODO**:    \n",
    "1. Take a look at Battery.msg in the `~/catkin_ws/src/pidrone_pkg/msg` directory on your drone. This is a custom message we've created to communicate the battery values.\n",
    "\n",
    "2. In `student_flight_controller_node.py`, do the following:    \n",
    "    - Fill in each `TODO` regarding the `battery_message` in the `__init__` method.\n",
    "    - Fill in each `TODO` in the `update_battery_message` method.\n",
    "\n",
    "\n",
    "## Activity 2: Extracting IMU data\n",
    "Linear accelerations and attitude (i.e. roll, pitch, yaw) can also be extracted from the FC, thanks to the accelerometer and gyroscope. In addition, the angular rates (e.g. change in roll over change in time) can be calculated by using the attitude measurements.\n",
    "\n",
    "**TODO**:    \n",
    "1. Take a look at the [Imu ROS message type](http://docs.ros.org/api/sensor_msgs/html/msg/Imu.html) to get an understanding of the data you'll be collecting.\n",
    "2. In `student_flight_controller_node.py`, do the following:    \n",
    "    - Fill in each `TODO` regarding the `imu_message` in the `__init__` method.\n",
    "    - Fill in each `TODO` in the `update_imu_message` method.\n"
   ]
  },
  {
   "attachments": {},
   "cell_type": "markdown",
   "metadata": {},
   "source": [
    "# Checkoff\n",
    "\n",
    "You should check if the `student_flight_controller_node` you have written gives a reasonable output.\n",
    "\n",
    "1.  Start the node by going in the screen (`1) and running the node by pressing <kbd>Enter</kbd>\n",
    "\n",
    "1.  Make sure that the node starts correctly and does not output any error.\n",
    "\n",
    "1.  Go in one of the free screens (i.e. `11) and check:\n",
    "\n",
    "    *   The flight controller node is up and publishing the correct topics (use `rostopic list`)\n",
    "\n",
    "    *   The publishing rate is correct (**hint:** use `rostopic hz`)\n",
    "\n",
    "    *   It is publishing the correct *type* of message (**hint:** use `rostopic info`)\n",
    "\n",
    "    *   The message being published has the correct types (**hint:** use `rostopic type` and *pipe* the output to `rosmsg show`)"
   ]
  }
 ],
 "metadata": {
  "kernelspec": {
   "display_name": "Python 3.8.10 64-bit",
   "language": "python",
   "name": "python3"
  },
  "language_info": {
   "name": "python",
   "version": "3.8.10"
  },
  "orig_nbformat": 4,
  "vscode": {
   "interpreter": {
    "hash": "916dbcbb3f70747c44a77c7bcd40155683ae19c65e1c03b4aa3499c5328201f1"
   }
  }
 },
 "nbformat": 4,
 "nbformat_minor": 2
}
